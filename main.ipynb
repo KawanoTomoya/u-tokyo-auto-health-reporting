{
 "cells": [
  {
   "cell_type": "code",
   "execution_count": 6,
   "metadata": {},
   "outputs": [],
   "source": [
    "from selenium import webdriver\n",
    "import chromedriver_binary\n",
    "import yaml\n",
    "import os\n",
    "import time"
   ]
  },
  {
   "cell_type": "code",
   "execution_count": 2,
   "metadata": {},
   "outputs": [],
   "source": [
    "config = yaml.safe_load(open('config.yaml').read())\n",
    "email = os.getenv('EMAIL')\n",
    "password = os.getenv('PASSWORD')"
   ]
  },
  {
   "cell_type": "code",
   "execution_count": 3,
   "metadata": {},
   "outputs": [],
   "source": [
    "if not email:\n",
    "     raise ValueError('no email in env')\n",
    "if not password:\n",
    "     raise ValueError('no password in env')"
   ]
  },
  {
   "cell_type": "code",
   "execution_count": 9,
   "metadata": {},
   "outputs": [],
   "source": [
    "destination_str = config.get('destination')\n",
    "destination = None\n",
    "if destination_str == 'hongo':\n",
    "    destination = '本郷地区／Hongo Area'\n",
    "elif destination_str == 'komaba':\n",
    "    destination = '駒場Ⅱ地区／KomabaⅡ Area　'\n",
    "elif destination_str == 'kashiwa':\n",
    "    destination = '柏地区／Kashiwa Area'\n",
    "elif destination_str == 'other':\n",
    "    destination = 'その他／Other Campus'\n",
    "else:\n",
    "    raise ValueError('invalid destination')\n",
    "    \n",
    "stay = config.get('stay')\n",
    "if not stay:\n",
    "     raise ValueError('invalid stay')"
   ]
  },
  {
   "cell_type": "code",
   "execution_count": 11,
   "metadata": {},
   "outputs": [],
   "source": [
    "# Chromeで操作する場合\n",
    "driver = webdriver.Chrome(executable_path='chromedriver')\n",
    "driver.get('https://forms.office.com/Pages/ResponsePage.aspx?id=T6978HAr10eaAgh1yvlMhF__kSldrNpNvIWhwdsjjRJURUZEVjlIWjM1VjhXMlVaRVJaWVpEVjJZVCQlQCN0PWcu')\n",
    "time.sleep(3)\n",
    "driver.find_element_by_name(\"loginfmt\").send_keys(email)\n",
    "driver.find_element_by_id(\"idSIButton9\").click()\n",
    "\n",
    "time.sleep(3)\n",
    "driver.find_element_by_name(\"Password\").send_keys(password)\n",
    "driver.find_element_by_id(\"submitButton\").click()\n",
    "\n",
    "time.sleep(3)\n",
    "driver.find_element_by_id(\"idBtn_Back\").click()\n",
    "\n",
    "time.sleep(3)\n",
    "driver.find_element_by_css_selector(\"input[aria-label='ECCSクラウドメール(共通ID@g.ecc.u-tokyo.ac.jp)宛に送信']\").click()\n",
    "driver.find_element_by_css_selector(f\"input[aria-label='{destination}']\").click()\n",
    "driver.find_element_by_css_selector(\"input[placeholder='回答を入力してください']\").send_keys(stay)\n",
    "\n",
    "driver.find_element_by_css_selector(\"input[aria-label='37.0度未満／Less than 37.0 degrees Celsius']\").click()\n",
    "time.sleep(1)\n",
    "driver.find_element_by_css_selector(\"input[aria-label='いいえ／No']\").click()\n",
    "# driver.find_element_by_css_selector(\"button[title='送信']\").click()"
   ]
  },
  {
   "cell_type": "code",
   "execution_count": 16,
   "metadata": {},
   "outputs": [
    {
     "data": {
      "text/plain": [
       "<selenium.webdriver.remote.webelement.WebElement (session=\"effeaf846b77f1ddc68cf6607e19a76a\", element=\"d2fdd613-ed25-409f-84eb-07b300ae7ccb\")>"
      ]
     },
     "execution_count": 16,
     "metadata": {},
     "output_type": "execute_result"
    }
   ],
   "source": [
    "driver.find_element_by_css_selector(\"input[maxlength='4000']\")"
   ]
  },
  {
   "cell_type": "code",
   "execution_count": null,
   "metadata": {},
   "outputs": [],
   "source": [
    "driver.quit()"
   ]
  }
 ],
 "metadata": {
  "kernelspec": {
   "display_name": "Python 3",
   "language": "python",
   "name": "python3"
  },
  "language_info": {
   "codemirror_mode": {
    "name": "ipython",
    "version": 3
   },
   "file_extension": ".py",
   "mimetype": "text/x-python",
   "name": "python",
   "nbconvert_exporter": "python",
   "pygments_lexer": "ipython3",
   "version": "3.9.0"
  }
 },
 "nbformat": 4,
 "nbformat_minor": 4
}
